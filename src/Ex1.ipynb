{
 "cells": [
  {
   "cell_type": "code",
   "execution_count": 42,
   "metadata": {
    "ExecuteTime": {
     "end_time": "2024-05-21T14:52:21.602005Z",
     "start_time": "2024-05-21T14:52:18.886537Z"
    },
    "tags": []
   },
   "outputs": [],
   "source": [
    "from pyspark import SparkContext, SparkConf\n",
    "import json\n",
    "import re\n",
    "\n",
    "# Configuration for Spark\n",
    "conf = SparkConf().setAppName(\"Part 1 RDD\")\n",
    "sc = SparkContext(conf=conf)"
   ]
  },
  {
   "cell_type": "code",
   "execution_count": 43,
   "metadata": {
    "tags": []
   },
   "outputs": [],
   "source": [
    "def preprocess(line):\n",
    "    review = json.loads(line)\n",
    "    category = review['category']\n",
    "    review_text = review['reviewText']\n",
    "    review_text = review_text.lower()\n",
    "    words = re.split(r'\\s+|\\t+|\\d+|[(){}\\[\\].!?,;:+=\\-_\"\\'`~#@&*%€$§\\/]+', review_text)\n",
    "    filtered_words = [word for word in words if word not in stopwords and len(word) > 1]\n",
    "    filtered_words = list(set(filtered_words))\n",
    "    return category, filtered_words"
   ]
  },
  {
   "cell_type": "code",
   "execution_count": 44,
   "metadata": {
    "tags": []
   },
   "outputs": [],
   "source": [
    "def calculate_chi_square(category, word, category_word_count, document_word_count, category_line_count, document_line_count):\n",
    "    A = category_word_count\n",
    "    B = document_word_count[word] - A\n",
    "    C = category_line_count[category] - A\n",
    "    D = document_line_count - category_line_count[category] - (document_word_count[word] - A)\n",
    "\n",
    "    dividend = (A * D - B * C) ** 2\n",
    "    divisor = (A + B) * (A + C) * (B + D) * (C + D)\n",
    "    if divisor == 0:\n",
    "        return 0\n",
    "    else:\n",
    "        return dividend / divisor"
   ]
  },
  {
   "cell_type": "code",
   "execution_count": 45,
   "metadata": {},
   "outputs": [],
   "source": [
    "def get_dictionary(top_terms):\n",
    "    dictionary = {} \n",
    "    for index, word, chi_square in top_terms:\n",
    "        dictionary[word] = dictionary.get(word,0) + chi_square\n",
    "    return ' '.join(sorted(dictionary.keys()))"
   ]
  },
  {
   "cell_type": "code",
   "execution_count": 46,
   "metadata": {
    "tags": []
   },
   "outputs": [],
   "source": [
    "def get_output(category_group):\n",
    "    category, words = category_group\n",
    "    sorted_words = sorted(words, key=lambda x: x[2], reverse=True)\n",
    "    top_terms = sorted_words[:75]\n",
    "    dictionary = get_dictionary(top_terms)\n",
    "    \n",
    "    output_terms = []\n",
    "    for index, word, chi_square in top_terms:\n",
    "        output_terms.append(f\"{word}:{chi_square}\")\n",
    "        \n",
    "    output_string = f\"{category} {' '. join(output_terms)}\"\n",
    "    return dictionary, output_string"
   ]
  },
  {
   "cell_type": "code",
   "execution_count": 47,
   "metadata": {
    "tags": []
   },
   "outputs": [],
   "source": [
    "# Load Data as RDD\n",
    "file_path = \"../data/reviews_devset.json\"\n",
    "reviews = sc.textFile(file_path)\n",
    "\n",
    "# Load Stopwords\n",
    "stopwords_path = \"../data/stopwords.txt\"\n",
    "with open(stopwords_path, 'r') as file:\n",
    "    stopwords = file.read().splitlines()"
   ]
  },
  {
   "cell_type": "code",
   "execution_count": 48,
   "metadata": {
    "tags": []
   },
   "outputs": [
    {
     "data": {
      "text/plain": [
       "../data/reviews_devset.json MapPartitionsRDD[1] at textFile at NativeMethodAccessorImpl.java:0"
      ]
     },
     "execution_count": 48,
     "metadata": {},
     "output_type": "execute_result"
    }
   ],
   "source": [
    "# Preprocess Data\n",
    "reviews_rdd = reviews.map(preprocess).cache()\n",
    "reviews.unpersist()"
   ]
  },
  {
   "cell_type": "code",
   "execution_count": 49,
   "metadata": {},
   "outputs": [],
   "source": [
    "# Total lines\n",
    "document_line_count = reviews_rdd.count()"
   ]
  },
  {
   "cell_type": "code",
   "execution_count": 50,
   "metadata": {},
   "outputs": [],
   "source": [
    "# Lines per category\n",
    "category_line_count = reviews_rdd.map(lambda x: (x[0], 1)).reduceByKey(lambda a, b: a + b)"
   ]
  },
  {
   "cell_type": "code",
   "execution_count": 51,
   "metadata": {},
   "outputs": [
    {
     "data": {
      "text/plain": [
       "PythonRDD[2] at RDD at PythonRDD.scala:49"
      ]
     },
     "execution_count": 51,
     "metadata": {},
     "output_type": "execute_result"
    }
   ],
   "source": [
    "# Transform the RDD to ((category, word), 1)\n",
    "category_word_pairs = reviews_rdd.flatMap(lambda x: [((x[0], word), 1) for word in x[1]]).cache()\n",
    "reviews_rdd.unpersist()"
   ]
  },
  {
   "cell_type": "code",
   "execution_count": 52,
   "metadata": {},
   "outputs": [],
   "source": [
    "# Lines with word per category\n",
    "category_word_count = category_word_pairs.reduceByKey(lambda a, b: a + b)"
   ]
  },
  {
   "cell_type": "code",
   "execution_count": 53,
   "metadata": {},
   "outputs": [],
   "source": [
    "# Lines with word in document\n",
    "document_word_count = category_word_pairs.map(lambda x: (x[0][1], 1)).reduceByKey(lambda a, b: a + b)"
   ]
  },
  {
   "cell_type": "code",
   "execution_count": 54,
   "metadata": {},
   "outputs": [
    {
     "data": {
      "text/plain": [
       "PythonRDD[8] at RDD at PythonRDD.scala:49"
      ]
     },
     "execution_count": 54,
     "metadata": {},
     "output_type": "execute_result"
    }
   ],
   "source": [
    "category_word_pairs.unpersist()"
   ]
  },
  {
   "cell_type": "code",
   "execution_count": 55,
   "metadata": {},
   "outputs": [],
   "source": [
    "# Collecting data into local variables, so no RDDs inside of transformations\n",
    "document_word_count_local = dict(document_word_count.collect())\n",
    "category_line_count_local = dict(category_line_count.collect())"
   ]
  },
  {
   "cell_type": "code",
   "execution_count": 56,
   "metadata": {
    "tags": []
   },
   "outputs": [
    {
     "data": {
      "text/plain": [
       "PythonRDD[18] at collect at <ipython-input-55-3d1492809c2e>:3"
      ]
     },
     "execution_count": 56,
     "metadata": {},
     "output_type": "execute_result"
    }
   ],
   "source": [
    "# Get Chi Square\n",
    "chi_square_rdd = category_word_count.map(lambda cw: (\n",
    "    cw[0][0],  # Category\n",
    "    cw[0][1],  # Word\n",
    "    calculate_chi_square(cw[0][0], cw[0][1], cw[1], document_word_count_local, category_line_count_local, document_line_count)\n",
    "))\n",
    "\n",
    "category_word_count.unpersist()\n",
    "category_word_pairs.unpersist()\n",
    "document_word_count.unpersist()\n",
    "category_line_count.unpersist()"
   ]
  },
  {
   "cell_type": "code",
   "execution_count": 57,
   "metadata": {
    "tags": []
   },
   "outputs": [],
   "source": [
    "# Define output per category\n",
    "category_rdd = chi_square_rdd.groupBy(lambda x: x[0])\n",
    "complied_output = category_rdd.map(get_output).collect()\n",
    "\n",
    "# Seperate Output\n",
    "dictionary = [item[0] for item in complied_output]\n",
    "categories = [item[1] for item in complied_output]\n",
    "\n",
    "categories_sorted = sorted(categories, key=lambda x: x)"
   ]
  },
  {
   "cell_type": "code",
   "execution_count": 58,
   "metadata": {},
   "outputs": [],
   "source": [
    "# Merge dictionary\n",
    "merged_dictionary = sc.parallelize(dictionary)\n",
    "unique_dictionary = merged_dictionary.flatMap(lambda x: x.split(\" \")).distinct()\n",
    "unique_dictionary = sorted(unique_dictionary.collect())"
   ]
  },
  {
   "cell_type": "code",
   "execution_count": 59,
   "metadata": {},
   "outputs": [],
   "source": [
    "with open(\"output_rdd_devset.txt\", \"w\") as output_file:\n",
    "    for line in categories_sorted:\n",
    "        output_file.write(line + \"\\n\")\n",
    "\n",
    "    output_file.write(\" \".join(unique_dictionary) + \"\\n\")"
   ]
  },
  {
   "cell_type": "code",
   "execution_count": 60,
   "metadata": {
    "tags": []
   },
   "outputs": [],
   "source": [
    "sc.stop()"
   ]
  }
 ],
 "metadata": {
  "kernelspec": {
   "display_name": "PySpark",
   "language": "python",
   "name": "pyspark"
  },
  "language_info": {
   "codemirror_mode": {
    "name": "ipython",
    "version": 3
   },
   "file_extension": ".py",
   "mimetype": "text/x-python",
   "name": "python",
   "nbconvert_exporter": "python",
   "pygments_lexer": "ipython3",
   "version": "3.6.5"
  }
 },
 "nbformat": 4,
 "nbformat_minor": 4
}

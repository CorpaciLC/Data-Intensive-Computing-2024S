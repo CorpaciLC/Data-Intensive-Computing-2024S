{
 "cells": [
  {
   "cell_type": "code",
   "execution_count": 32,
   "outputs": [],
   "source": [
    "from pyspark import SparkContext, SparkConf\n",
    "from pyspark.sql import SparkSession\n",
    "from pyspark.sql.functions import col, lower, expr\n",
    "from pyspark.ml.feature import RegexTokenizer, StopWordsRemover"
   ],
   "metadata": {
    "collapsed": false,
    "ExecuteTime": {
     "end_time": "2024-05-20T06:25:49.280916Z",
     "start_time": "2024-05-20T06:25:49.266030200Z"
    }
   }
  },
  {
   "cell_type": "code",
   "execution_count": 33,
   "outputs": [],
   "source": [
    "conf = SparkConf().setAppName(\"Part 1 RDD\")\n",
    "sc = SparkContext(conf=conf)\n",
    "spark = SparkSession(sc)"
   ],
   "metadata": {
    "collapsed": false,
    "ExecuteTime": {
     "end_time": "2024-05-20T06:25:49.360155500Z",
     "start_time": "2024-05-20T06:25:49.284049900Z"
    }
   }
  },
  {
   "cell_type": "code",
   "execution_count": 34,
   "outputs": [],
   "source": [
    "#Load Data\n",
    "file_path = \"../data/reviews_devset.json\"\n",
    "reviews_df = spark.read.json(file_path)\n",
    "\n",
    "# Load Stopwords\n",
    "stopwords_path = \"../data/stopwords.txt\"\n",
    "with open(stopwords_path, 'r') as file:\n",
    "    stopwords = file.read().splitlines()"
   ],
   "metadata": {
    "collapsed": false,
    "ExecuteTime": {
     "end_time": "2024-05-20T06:25:49.499061700Z",
     "start_time": "2024-05-20T06:25:49.365182400Z"
    }
   }
  },
  {
   "cell_type": "code",
   "execution_count": 35,
   "outputs": [],
   "source": [
    "# Preprocess Data\n",
    "# Get columns and case fold\n",
    "reviews_df = reviews_df.select(\"category\", \"reviewText\").withColumn(\"reviewText\", lower(col(\"reviewText\")))\n",
    "\n",
    "# Tokenize Data\n",
    "tokenizer = RegexTokenizer(inputCol=\"reviewText\", outputCol=\"words\", pattern=r'\\s+|\\t+|\\d+|[(){}\\[\\].!?,;:+=\\-_\"\\'`~#@&*%€$§\\/]+')\n",
    "reviews_df = tokenizer.transform(reviews_df)\n",
    "\n",
    "# Remove Stopwords\n",
    "remover = StopWordsRemover(inputCol=\"words\", outputCol=\"filtered_words\", stopWords=stopwords)\n",
    "reviews_df = remover.transform(reviews_df)\n",
    "\n",
    "# Filter out single-character tokens\n",
    "reviews_df = reviews_df.withColumn(\"filtered_words\", expr(\"filter(filtered_words, x -> length(x) > 1)\"))\n",
    "\n",
    "# Select only relevant columns to continue\n",
    "data = reviews_df.select(\"category\", \"filtered_words\")"
   ],
   "metadata": {
    "collapsed": false,
    "ExecuteTime": {
     "end_time": "2024-05-20T06:25:49.641076600Z",
     "start_time": "2024-05-20T06:25:49.499061700Z"
    }
   }
  },
  {
   "cell_type": "code",
   "execution_count": 36,
   "outputs": [
    {
     "name": "stdout",
     "output_type": "stream",
     "text": [
      "+--------------------+--------------------+\n",
      "|            category|      filtered_words|\n",
      "+--------------------+--------------------+\n",
      "|Patio_Lawn_and_Garde|[gift, husband, m...|\n",
      "|Patio_Lawn_and_Garde|[nice, spreader, ...|\n",
      "|Patio_Lawn_and_Garde|[metal, base, hos...|\n",
      "|Patio_Lawn_and_Garde|[part, works, pre...|\n",
      "|Patio_Lawn_and_Garde|[hose, supposed, ...|\n",
      "|Patio_Lawn_and_Garde|[tool, works, cut...|\n",
      "|Patio_Lawn_and_Garde|[typical, usable,...|\n",
      "|Patio_Lawn_and_Garde|[excited, ditch, ...|\n",
      "|Patio_Lawn_and_Garde|[purchased, leaf,...|\n",
      "|Patio_Lawn_and_Garde|[manual, lawnmowe...|\n",
      "|Patio_Lawn_and_Garde|[good, price, goo...|\n",
      "|Patio_Lawn_and_Garde|[owned, flowtron,...|\n",
      "|Patio_Lawn_and_Garde|[similar, family,...|\n",
      "|Patio_Lawn_and_Garde|[birds, ate, blue...|\n",
      "|Patio_Lawn_and_Garde|[bought, summer, ...|\n",
      "|Patio_Lawn_and_Garde|[knew, mouse, bas...|\n",
      "|Patio_Lawn_and_Garde|[worried, reading...|\n",
      "|Patio_Lawn_and_Garde|[brand, long, tim...|\n",
      "|Patio_Lawn_and_Garde|[current, model, ...|\n",
      "|Patio_Lawn_and_Garde|[expected, works,...|\n",
      "+--------------------+--------------------+\n",
      "only showing top 20 rows\n",
      "\n"
     ]
    }
   ],
   "source": [
    "data.show()\n",
    "\n",
    "sc.stop()"
   ],
   "metadata": {
    "collapsed": false,
    "ExecuteTime": {
     "end_time": "2024-05-20T06:25:49.877164900Z",
     "start_time": "2024-05-20T06:25:49.641076600Z"
    }
   }
  }
 ],
 "metadata": {
  "kernelspec": {
   "display_name": "Python 3",
   "language": "python",
   "name": "python3"
  },
  "language_info": {
   "codemirror_mode": {
    "name": "ipython",
    "version": 2
   },
   "file_extension": ".py",
   "mimetype": "text/x-python",
   "name": "python",
   "nbconvert_exporter": "python",
   "pygments_lexer": "ipython2",
   "version": "2.7.6"
  }
 },
 "nbformat": 4,
 "nbformat_minor": 0
}

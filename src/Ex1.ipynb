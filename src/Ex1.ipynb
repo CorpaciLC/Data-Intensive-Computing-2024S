{
 "cells": [
  {
   "cell_type": "code",
   "execution_count": 29,
   "metadata": {
    "ExecuteTime": {
     "end_time": "2024-05-21T14:52:21.602005Z",
     "start_time": "2024-05-21T14:52:18.886537Z"
    },
    "tags": []
   },
   "outputs": [],
   "source": [
    "from pyspark import SparkContext, SparkConf\n",
    "import json\n",
    "import re\n",
    "\n",
    "# Configuration for Spark\n",
    "conf = SparkConf().setAppName(\"Part 1 RDD\").setMaster('spark://spark-master:7077')\n",
    "sc = SparkContext(conf=conf)"
   ]
  },
  {
   "cell_type": "code",
   "execution_count": 30,
   "metadata": {
    "tags": []
   },
   "outputs": [],
   "source": [
    "def preprocess(line, stopwords_broadcast):\n",
    "    review = json.loads(line)\n",
    "    category = review['category']\n",
    "    review_text = review['reviewText']\n",
    "    review_text = review_text.lower()\n",
    "    words = re.split(r'\\s+|\\t+|\\d+|[(){}\\[\\].!?,;:+=\\-_\"\\'`~#@&*%€$§\\/]+', review_text)\n",
    "    stopwords = stopwords_broadcast.value\n",
    "    filtered_words = [word for word in words if word not in stopwords and len(word) > 1]\n",
    "    return category, list(set(filtered_words))"
   ]
  },
  {
   "cell_type": "code",
   "execution_count": 31,
   "metadata": {
    "tags": []
   },
   "outputs": [],
   "source": [
    "def calculate_chi_square(category, word, category_word_count, document_word_count, category_line_count, document_line_count):\n",
    "    A = category_word_count\n",
    "    B = document_word_count[word] - A\n",
    "    C = category_line_count[category] - A\n",
    "    D = document_line_count - category_line_count[category] - (document_word_count[word] - A)\n",
    "\n",
    "    dividend = (A * D - B * C) ** 2\n",
    "    divisor = (A + B) * (A + C) * (B + D) * (C + D)\n",
    "    if divisor == 0:\n",
    "        return 0\n",
    "    else:\n",
    "        return dividend / divisor"
   ]
  },
  {
   "cell_type": "code",
   "execution_count": 32,
   "metadata": {},
   "outputs": [],
   "source": [
    "def get_dictionary(top_terms):\n",
    "    dictionary = {} \n",
    "    for index, word, chi_square in top_terms:\n",
    "        dictionary[word] = dictionary.get(word,0) + chi_square\n",
    "    return ' '.join(sorted(dictionary.keys()))"
   ]
  },
  {
   "cell_type": "code",
   "execution_count": 33,
   "metadata": {
    "tags": []
   },
   "outputs": [],
   "source": [
    "def get_output(category_group):\n",
    "    category, words = category_group\n",
    "    sorted_words = sorted(words, key=lambda x: x[2], reverse=True)\n",
    "    top_terms = sorted_words[:75]\n",
    "    dictionary = get_dictionary(top_terms)\n",
    "    \n",
    "    output_terms = []\n",
    "    for index, word, chi_square in top_terms:\n",
    "        output_terms.append(f\"{word}:{chi_square}\")\n",
    "        \n",
    "    output_string = f\"{category} {' '.join(output_terms)}\"\n",
    "    return dictionary, output_string"
   ]
  },
  {
   "cell_type": "code",
   "execution_count": 34,
   "metadata": {
    "tags": []
   },
   "outputs": [],
   "source": [
    "# Load Data as RDD\n",
    "file_path = \"../data/reviews_devset.json\"\n",
    "reviews = sc.textFile(file_path)\n",
    "\n",
    "# Load Stopwords\n",
    "stopwords_path = \"../data/stopwords.txt\"\n",
    "with open(stopwords_path, 'r') as file:\n",
    "    stopwords = file.read().splitlines()\n",
    "    \n",
    "stopwords_broadcast = sc.broadcast(stopwords)"
   ]
  },
  {
   "cell_type": "code",
   "execution_count": 35,
   "metadata": {
    "tags": []
   },
   "outputs": [
    {
     "data": {
      "text/plain": [
       "../data/reviewscombined.json MapPartitionsRDD[1] at textFile at NativeMethodAccessorImpl.java:0"
      ]
     },
     "execution_count": 35,
     "metadata": {},
     "output_type": "execute_result"
    }
   ],
   "source": [
    "# Preprocess Data\n",
    "# Get category and word set of line\n",
    "reviews_rdd = reviews.map(lambda line: preprocess(line, stopwords_broadcast)).cache()\n",
    "reviews.unpersist()"
   ]
  },
  {
   "cell_type": "code",
   "execution_count": 36,
   "metadata": {},
   "outputs": [],
   "source": [
    "# Total lines\n",
    "document_line_count = reviews_rdd.count()"
   ]
  },
  {
   "cell_type": "code",
   "execution_count": 37,
   "metadata": {},
   "outputs": [],
   "source": [
    "# Lines per category\n",
    "category_line_count = reviews_rdd.map(lambda x: (x[0], 1)).reduceByKey(lambda a, b: a + b).collectAsMap()\n",
    "category_line_count_broadcast = sc.broadcast(category_line_count)"
   ]
  },
  {
   "cell_type": "code",
   "execution_count": 38,
   "metadata": {},
   "outputs": [
    {
     "data": {
      "text/plain": [
       "PythonRDD[2] at RDD at PythonRDD.scala:49"
      ]
     },
     "execution_count": 38,
     "metadata": {},
     "output_type": "execute_result"
    }
   ],
   "source": [
    "# Transform the RDD to ((category, word), 1)\n",
    "category_word_pairs = reviews_rdd.flatMap(lambda x: [((x[0], word), 1) for word in x[1]]).cache()\n",
    "reviews_rdd.unpersist()"
   ]
  },
  {
   "cell_type": "code",
   "execution_count": 39,
   "metadata": {},
   "outputs": [],
   "source": [
    "# Lines with word per category\n",
    "category_word_count = category_word_pairs.reduceByKey(lambda a, b: a + b).cache()"
   ]
  },
  {
   "cell_type": "code",
   "execution_count": 40,
   "metadata": {},
   "outputs": [],
   "source": [
    "# Lines with word in document\n",
    "document_word_count = category_word_pairs.map(lambda x: (x[0][1], 1)).reduceByKey(lambda a, b: a + b).collectAsMap()\n",
    "document_word_count_broadcast = sc.broadcast(document_word_count)"
   ]
  },
  {
   "cell_type": "code",
   "execution_count": 41,
   "metadata": {},
   "outputs": [
    {
     "data": {
      "text/plain": [
       "PythonRDD[9] at RDD at PythonRDD.scala:49"
      ]
     },
     "execution_count": 41,
     "metadata": {},
     "output_type": "execute_result"
    }
   ],
   "source": [
    "category_word_pairs.unpersist()"
   ]
  },
  {
   "cell_type": "code",
   "execution_count": 42,
   "metadata": {
    "tags": []
   },
   "outputs": [
    {
     "data": {
      "text/plain": [
       "PythonRDD[14] at RDD at PythonRDD.scala:49"
      ]
     },
     "execution_count": 42,
     "metadata": {},
     "output_type": "execute_result"
    }
   ],
   "source": [
    "# Calculate chi square values\n",
    "chi_square_rdd = category_word_count.map(lambda cw: (\n",
    "    cw[0][0],  # Category\n",
    "    cw[0][1],  # Word\n",
    "    calculate_chi_square(cw[0][0], cw[0][1], cw[1], document_word_count_broadcast.value, category_line_count_broadcast.value, document_line_count)\n",
    ")).cache()\n",
    "\n",
    "category_word_count.unpersist()"
   ]
  },
  {
   "cell_type": "code",
   "execution_count": 43,
   "metadata": {
    "tags": []
   },
   "outputs": [],
   "source": [
    "# Define output per category\n",
    "category_rdd = chi_square_rdd.groupBy(lambda x: x[0])\n",
    "compiled_output = category_rdd.map(get_output).collect()\n",
    "\n",
    "# Separate Output\n",
    "# Dictionaries for each category and category output with top 75 words\n",
    "dictionary = [item[0] for item in compiled_output]\n",
    "categories = [item[1] for item in compiled_output]\n",
    "\n",
    "categories_sorted = sorted(categories, key=lambda x: x)"
   ]
  },
  {
   "cell_type": "code",
   "execution_count": 44,
   "metadata": {},
   "outputs": [],
   "source": [
    "# Merge dictionaries of all categories\n",
    "merged_dictionary = sc.parallelize(dictionary)\n",
    "unique_dictionary = merged_dictionary.flatMap(lambda x: x.split(\" \")).distinct()\n",
    "unique_dictionary = sorted(unique_dictionary.collect())"
   ]
  },
  {
   "cell_type": "code",
   "execution_count": 45,
   "metadata": {},
   "outputs": [],
   "source": [
    "with open(\"output_rdd_devset.txt\", \"w\") as output_file:\n",
    "    for line in categories_sorted:\n",
    "        output_file.write(line + \"\\n\")\n",
    "\n",
    "    output_file.write(\" \".join(unique_dictionary) + \"\\n\")"
   ]
  },
  {
   "cell_type": "code",
   "execution_count": 47,
   "metadata": {
    "tags": []
   },
   "outputs": [],
   "source": [
    "sc.stop()"
   ]
  }
 ],
 "metadata": {
  "kernelspec": {
   "display_name": "PySpark",
   "language": "python",
   "name": "pyspark"
  },
  "language_info": {
   "codemirror_mode": {
    "name": "ipython",
    "version": 3
   },
   "file_extension": ".py",
   "mimetype": "text/x-python",
   "name": "python",
   "nbconvert_exporter": "python",
   "pygments_lexer": "ipython3",
   "version": "3.6.5"
  }
 },
 "nbformat": 4,
 "nbformat_minor": 4
}
